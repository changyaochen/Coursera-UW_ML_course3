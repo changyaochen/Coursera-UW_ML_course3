{
 "cells": [
  {
   "cell_type": "code",
   "execution_count": 81,
   "metadata": {
    "collapsed": true,
    "deletable": true,
    "editable": true
   },
   "outputs": [],
   "source": [
    "import pandas as pd\n",
    "import numpy as np\n",
    "import json\n",
    "import string"
   ]
  },
  {
   "cell_type": "code",
   "execution_count": 31,
   "metadata": {
    "collapsed": true,
    "deletable": true,
    "editable": true
   },
   "outputs": [],
   "source": [
    "products = pd.read_csv('amazon_baby.csv')\n",
    "products['review'].fillna('', inplace=True)"
   ]
  },
  {
   "cell_type": "code",
   "execution_count": 32,
   "metadata": {
    "collapsed": true
   },
   "outputs": [],
   "source": [
    "def remove_punctuation(text):\n",
    "    table = str.maketrans({key: None for key in string.punctuation})\n",
    "    return str(text).translate(table)\n",
    "\n",
    "products['review_clean'] = products['review'].apply(remove_punctuation)\n",
    "# remove the rating = 3 reviews\n",
    "products = products[products['rating'] != 3].reset_index(drop=True)\n",
    "# add labels\n",
    "products['sentiment'] = products['rating'].apply(lambda rating : 1 if rating > 3 else -1)"
   ]
  },
  {
   "cell_type": "code",
   "execution_count": 33,
   "metadata": {
    "collapsed": false
   },
   "outputs": [
    {
     "data": {
      "text/html": [
       "<div>\n",
       "<table border=\"1\" class=\"dataframe\">\n",
       "  <thead>\n",
       "    <tr style=\"text-align: right;\">\n",
       "      <th></th>\n",
       "      <th>name</th>\n",
       "      <th>review</th>\n",
       "      <th>rating</th>\n",
       "      <th>review_clean</th>\n",
       "      <th>sentiment</th>\n",
       "    </tr>\n",
       "  </thead>\n",
       "  <tbody>\n",
       "    <tr>\n",
       "      <th>0</th>\n",
       "      <td>Planetwise Wipe Pouch</td>\n",
       "      <td>it came early and was not disappointed. i love...</td>\n",
       "      <td>5</td>\n",
       "      <td>it came early and was not disappointed i love ...</td>\n",
       "      <td>1</td>\n",
       "    </tr>\n",
       "    <tr>\n",
       "      <th>1</th>\n",
       "      <td>Annas Dream Full Quilt with 2 Shams</td>\n",
       "      <td>Very soft and comfortable and warmer than it l...</td>\n",
       "      <td>5</td>\n",
       "      <td>Very soft and comfortable and warmer than it l...</td>\n",
       "      <td>1</td>\n",
       "    </tr>\n",
       "    <tr>\n",
       "      <th>2</th>\n",
       "      <td>Stop Pacifier Sucking without tears with Thumb...</td>\n",
       "      <td>This is a product well worth the purchase.  I ...</td>\n",
       "      <td>5</td>\n",
       "      <td>This is a product well worth the purchase  I h...</td>\n",
       "      <td>1</td>\n",
       "    </tr>\n",
       "    <tr>\n",
       "      <th>3</th>\n",
       "      <td>Stop Pacifier Sucking without tears with Thumb...</td>\n",
       "      <td>All of my kids have cried non-stop when I trie...</td>\n",
       "      <td>5</td>\n",
       "      <td>All of my kids have cried nonstop when I tried...</td>\n",
       "      <td>1</td>\n",
       "    </tr>\n",
       "    <tr>\n",
       "      <th>4</th>\n",
       "      <td>Stop Pacifier Sucking without tears with Thumb...</td>\n",
       "      <td>When the Binky Fairy came to our house, we did...</td>\n",
       "      <td>5</td>\n",
       "      <td>When the Binky Fairy came to our house we didn...</td>\n",
       "      <td>1</td>\n",
       "    </tr>\n",
       "  </tbody>\n",
       "</table>\n",
       "</div>"
      ],
      "text/plain": [
       "                                                name  \\\n",
       "0                              Planetwise Wipe Pouch   \n",
       "1                Annas Dream Full Quilt with 2 Shams   \n",
       "2  Stop Pacifier Sucking without tears with Thumb...   \n",
       "3  Stop Pacifier Sucking without tears with Thumb...   \n",
       "4  Stop Pacifier Sucking without tears with Thumb...   \n",
       "\n",
       "                                              review  rating  \\\n",
       "0  it came early and was not disappointed. i love...       5   \n",
       "1  Very soft and comfortable and warmer than it l...       5   \n",
       "2  This is a product well worth the purchase.  I ...       5   \n",
       "3  All of my kids have cried non-stop when I trie...       5   \n",
       "4  When the Binky Fairy came to our house, we did...       5   \n",
       "\n",
       "                                        review_clean  sentiment  \n",
       "0  it came early and was not disappointed i love ...          1  \n",
       "1  Very soft and comfortable and warmer than it l...          1  \n",
       "2  This is a product well worth the purchase  I h...          1  \n",
       "3  All of my kids have cried nonstop when I tried...          1  \n",
       "4  When the Binky Fairy came to our house we didn...          1  "
      ]
     },
     "execution_count": 33,
     "metadata": {},
     "output_type": "execute_result"
    }
   ],
   "source": [
    "products.head()"
   ]
  },
  {
   "cell_type": "code",
   "execution_count": 34,
   "metadata": {
    "collapsed": false
   },
   "outputs": [],
   "source": [
    "with open('week1_train_idx.json', 'r') as f:\n",
    "    train_idx = json.load(f)\n",
    "with open('week1_test_idx.json', 'r') as f:\n",
    "    test_idx = json.load(f)"
   ]
  },
  {
   "cell_type": "code",
   "execution_count": 42,
   "metadata": {
    "collapsed": false
   },
   "outputs": [],
   "source": [
    "train_data, test_data = products.iloc[train_idx, :], products.iloc[test_idx, :]"
   ]
  },
  {
   "cell_type": "code",
   "execution_count": 44,
   "metadata": {
    "collapsed": false
   },
   "outputs": [],
   "source": [
    "from sklearn.feature_extraction.text import CountVectorizer\n",
    "vectorizer = CountVectorizer(token_pattern=r'\\b\\w+\\b') # Use this token pattern to keep single-letter words\n",
    "# First, learn vocabulary from the training data and assign columns to words\n",
    "# Then convert the training data into a sparse matrix\n",
    "train_matrix = vectorizer.fit_transform(train_data['review_clean'])\n",
    "# Second, convert the test data into a sparse matrix, using the same word-column mapping\n",
    "test_matrix = vectorizer.transform(test_data['review_clean'])"
   ]
  },
  {
   "cell_type": "code",
   "execution_count": 48,
   "metadata": {
    "collapsed": false
   },
   "outputs": [
    {
     "data": {
      "text/plain": [
       "LogisticRegression(C=1.0, class_weight=None, dual=False, fit_intercept=True,\n",
       "          intercept_scaling=1, max_iter=100, multi_class='ovr', n_jobs=1,\n",
       "          penalty='l2', random_state=None, solver='liblinear', tol=0.0001,\n",
       "          verbose=0, warm_start=False)"
      ]
     },
     "execution_count": 48,
     "metadata": {},
     "output_type": "execute_result"
    }
   ],
   "source": [
    "# train a logistic regression model\n",
    "from sklearn.linear_model import LogisticRegression\n",
    "sentiment_model = LogisticRegression()\n",
    "sentiment_model.fit(train_matrix, train_data['sentiment'])"
   ]
  },
  {
   "cell_type": "markdown",
   "metadata": {},
   "source": [
    "### Quiz 1"
   ]
  },
  {
   "cell_type": "code",
   "execution_count": 59,
   "metadata": {
    "collapsed": false
   },
   "outputs": [
    {
     "data": {
      "text/plain": [
       "87194"
      ]
     },
     "execution_count": 59,
     "metadata": {},
     "output_type": "execute_result"
    }
   ],
   "source": [
    "sum(sentiment_model.coef_[0] >= 0)"
   ]
  },
  {
   "cell_type": "code",
   "execution_count": 65,
   "metadata": {
    "collapsed": true
   },
   "outputs": [],
   "source": [
    "test_data.reset_index(inplace=True, drop=True)\n",
    "sample_test_data = test_data[10:13]"
   ]
  },
  {
   "cell_type": "code",
   "execution_count": 77,
   "metadata": {
    "collapsed": false
   },
   "outputs": [],
   "source": [
    "sample_test_matrix = vectorizer.transform(sample_test_data['review_clean'])\n",
    "scores = sentiment_model.decision_function(sample_test_matrix)"
   ]
  },
  {
   "cell_type": "markdown",
   "metadata": {},
   "source": [
    "### Quiz 2"
   ]
  },
  {
   "cell_type": "code",
   "execution_count": 78,
   "metadata": {
    "collapsed": false
   },
   "outputs": [
    {
     "name": "stdout",
     "output_type": "stream",
     "text": [
      "[  5.60129879  -3.17005306 -10.42408041]\n"
     ]
    }
   ],
   "source": [
    "print(scores)"
   ]
  },
  {
   "cell_type": "markdown",
   "metadata": {},
   "source": [
    "### Quiz 3"
   ]
  },
  {
   "cell_type": "code",
   "execution_count": 93,
   "metadata": {
    "collapsed": false
   },
   "outputs": [],
   "source": [
    "train_data.reset_index(inplace=True, drop=True)\n",
    "train_proba = sentiment_model.predict_proba(train_matrix)[:,1]\n",
    "top_idx = np.argsort(train_proba)"
   ]
  },
  {
   "cell_type": "code",
   "execution_count": 100,
   "metadata": {
    "collapsed": false
   },
   "outputs": [
    {
     "data": {
      "text/html": [
       "<div>\n",
       "<table border=\"1\" class=\"dataframe\">\n",
       "  <thead>\n",
       "    <tr style=\"text-align: right;\">\n",
       "      <th></th>\n",
       "      <th>name</th>\n",
       "      <th>review</th>\n",
       "      <th>rating</th>\n",
       "      <th>review_clean</th>\n",
       "      <th>sentiment</th>\n",
       "    </tr>\n",
       "  </thead>\n",
       "  <tbody>\n",
       "    <tr>\n",
       "      <th>64509</th>\n",
       "      <td>ERGObaby Original Baby Carrier, Galaxy Grey</td>\n",
       "      <td>We purchased this carrier after a recommendati...</td>\n",
       "      <td>5</td>\n",
       "      <td>We purchased this carrier after a recommendati...</td>\n",
       "      <td>1</td>\n",
       "    </tr>\n",
       "    <tr>\n",
       "      <th>79239</th>\n",
       "      <td>Chicco Keyfit 22 Pound Infant Car Seat And Bas...</td>\n",
       "      <td>I bought this right before the KeyFit 30 came ...</td>\n",
       "      <td>5</td>\n",
       "      <td>I bought this right before the KeyFit 30 came ...</td>\n",
       "      <td>1</td>\n",
       "    </tr>\n",
       "    <tr>\n",
       "      <th>79338</th>\n",
       "      <td>Britax B-Ready Stroller, Black</td>\n",
       "      <td>Some differences with Uppababy Vs. Britax B-Re...</td>\n",
       "      <td>4</td>\n",
       "      <td>Some differences with Uppababy Vs Britax BRead...</td>\n",
       "      <td>1</td>\n",
       "    </tr>\n",
       "    <tr>\n",
       "      <th>73473</th>\n",
       "      <td>ERGO Sport Carrier - Black</td>\n",
       "      <td>I researched carriers for a long time. I am so...</td>\n",
       "      <td>5</td>\n",
       "      <td>I researched carriers for a long time I am so ...</td>\n",
       "      <td>1</td>\n",
       "    </tr>\n",
       "    <tr>\n",
       "      <th>67577</th>\n",
       "      <td>Bright Starts Around We Go Activity Station, D...</td>\n",
       "      <td>When shopping for an exersaucer, I came across...</td>\n",
       "      <td>5</td>\n",
       "      <td>When shopping for an exersaucer I came across ...</td>\n",
       "      <td>1</td>\n",
       "    </tr>\n",
       "    <tr>\n",
       "      <th>75186</th>\n",
       "      <td>Chicco Cortina Together Double Stroller, Fuego</td>\n",
       "      <td>I was very excited when I heard Chicco was fin...</td>\n",
       "      <td>5</td>\n",
       "      <td>I was very excited when I heard Chicco was fin...</td>\n",
       "      <td>1</td>\n",
       "    </tr>\n",
       "    <tr>\n",
       "      <th>34821</th>\n",
       "      <td>Baby K'tan Baby Carrier, Black, X-Large</td>\n",
       "      <td>Check and recheck the K'Tan for size issues be...</td>\n",
       "      <td>5</td>\n",
       "      <td>Check and recheck the KTan for size issues bef...</td>\n",
       "      <td>1</td>\n",
       "    </tr>\n",
       "    <tr>\n",
       "      <th>66594</th>\n",
       "      <td>Dream On Me / Mia Moda  Atmosferra Stroller, Nero</td>\n",
       "      <td>I love this stroller SO much! I am not afraid ...</td>\n",
       "      <td>5</td>\n",
       "      <td>I love this stroller SO much I am not afraid t...</td>\n",
       "      <td>1</td>\n",
       "    </tr>\n",
       "    <tr>\n",
       "      <th>131546</th>\n",
       "      <td>Baby Jogger City Lite Stroller, Black</td>\n",
       "      <td>AMAZING stroller!  It took me about 2 minutes ...</td>\n",
       "      <td>5</td>\n",
       "      <td>AMAZING stroller  It took me about 2 minutes t...</td>\n",
       "      <td>1</td>\n",
       "    </tr>\n",
       "    <tr>\n",
       "      <th>130793</th>\n",
       "      <td>Thirsties Duo Wrap Diaper Cover with Hook and ...</td>\n",
       "      <td>The Thirsties are really an awesome concept th...</td>\n",
       "      <td>5</td>\n",
       "      <td>The Thirsties are really an awesome concept th...</td>\n",
       "      <td>1</td>\n",
       "    </tr>\n",
       "    <tr>\n",
       "      <th>77498</th>\n",
       "      <td>Quinny Senzz 2011 Fashion Stroller, Star</td>\n",
       "      <td>I am very pleased overall with the Quinny Senz...</td>\n",
       "      <td>4</td>\n",
       "      <td>I am very pleased overall with the Quinny Senz...</td>\n",
       "      <td>1</td>\n",
       "    </tr>\n",
       "    <tr>\n",
       "      <th>92971</th>\n",
       "      <td>Mountain Buggy Duet Double Buggy Stroller, Bla...</td>\n",
       "      <td>My local BRU had only 15 strollers to look at ...</td>\n",
       "      <td>5</td>\n",
       "      <td>My local BRU had only 15 strollers to look at ...</td>\n",
       "      <td>1</td>\n",
       "    </tr>\n",
       "    <tr>\n",
       "      <th>79335</th>\n",
       "      <td>Britax B-Ready Stroller, Black</td>\n",
       "      <td>We only have one baby (6 months old), but boug...</td>\n",
       "      <td>5</td>\n",
       "      <td>We only have one baby 6 months old but bought ...</td>\n",
       "      <td>1</td>\n",
       "    </tr>\n",
       "    <tr>\n",
       "      <th>79528</th>\n",
       "      <td>Britax Boulevard 70 Convertible Car Seat (Prev...</td>\n",
       "      <td>A little background on me: I have three kids (...</td>\n",
       "      <td>5</td>\n",
       "      <td>A little background on me I have three kids 5 ...</td>\n",
       "      <td>1</td>\n",
       "    </tr>\n",
       "    <tr>\n",
       "      <th>130780</th>\n",
       "      <td>Thirsties Diaper Cover with Hook and Loop, Aqu...</td>\n",
       "      <td>The Thirsties are really an awesome concept th...</td>\n",
       "      <td>5</td>\n",
       "      <td>The Thirsties are really an awesome concept th...</td>\n",
       "      <td>1</td>\n",
       "    </tr>\n",
       "    <tr>\n",
       "      <th>11352</th>\n",
       "      <td>Chicco Travel Seat Explorer</td>\n",
       "      <td>We were having our \"second\" child, and had NO ...</td>\n",
       "      <td>5</td>\n",
       "      <td>We were having our second child and had NO CLU...</td>\n",
       "      <td>1</td>\n",
       "    </tr>\n",
       "    <tr>\n",
       "      <th>80880</th>\n",
       "      <td>Gocrib Portable Baby Travel Crib and Play Yard</td>\n",
       "      <td>My husband says one should be skeptical of 5 s...</td>\n",
       "      <td>5</td>\n",
       "      <td>My husband says one should be skeptical of 5 s...</td>\n",
       "      <td>1</td>\n",
       "    </tr>\n",
       "    <tr>\n",
       "      <th>100116</th>\n",
       "      <td>Covillow Breastfeeding Cover and Pillow-In-One...</td>\n",
       "      <td>If I could give this nursing cover 10 stars I ...</td>\n",
       "      <td>5</td>\n",
       "      <td>If I could give this nursing cover 10 stars I ...</td>\n",
       "      <td>1</td>\n",
       "    </tr>\n",
       "    <tr>\n",
       "      <th>63150</th>\n",
       "      <td>Baby Jogger 2010 City Mini Single Stroller, Bl...</td>\n",
       "      <td>i love this stroller. It took 4 months researc...</td>\n",
       "      <td>5</td>\n",
       "      <td>i love this stroller It took 4 months research...</td>\n",
       "      <td>1</td>\n",
       "    </tr>\n",
       "    <tr>\n",
       "      <th>118059</th>\n",
       "      <td>HALO SleepSack SwaddleChange Diaper Pad Covers...</td>\n",
       "      <td>I love having a new baby in the house, and eve...</td>\n",
       "      <td>5</td>\n",
       "      <td>I love having a new baby in the house and even...</td>\n",
       "      <td>1</td>\n",
       "    </tr>\n",
       "  </tbody>\n",
       "</table>\n",
       "</div>"
      ],
      "text/plain": [
       "                                                     name  \\\n",
       "64509         ERGObaby Original Baby Carrier, Galaxy Grey   \n",
       "79239   Chicco Keyfit 22 Pound Infant Car Seat And Bas...   \n",
       "79338                      Britax B-Ready Stroller, Black   \n",
       "73473                          ERGO Sport Carrier - Black   \n",
       "67577   Bright Starts Around We Go Activity Station, D...   \n",
       "75186      Chicco Cortina Together Double Stroller, Fuego   \n",
       "34821             Baby K'tan Baby Carrier, Black, X-Large   \n",
       "66594   Dream On Me / Mia Moda  Atmosferra Stroller, Nero   \n",
       "131546              Baby Jogger City Lite Stroller, Black   \n",
       "130793  Thirsties Duo Wrap Diaper Cover with Hook and ...   \n",
       "77498            Quinny Senzz 2011 Fashion Stroller, Star   \n",
       "92971   Mountain Buggy Duet Double Buggy Stroller, Bla...   \n",
       "79335                      Britax B-Ready Stroller, Black   \n",
       "79528   Britax Boulevard 70 Convertible Car Seat (Prev...   \n",
       "130780  Thirsties Diaper Cover with Hook and Loop, Aqu...   \n",
       "11352                         Chicco Travel Seat Explorer   \n",
       "80880      Gocrib Portable Baby Travel Crib and Play Yard   \n",
       "100116  Covillow Breastfeeding Cover and Pillow-In-One...   \n",
       "63150   Baby Jogger 2010 City Mini Single Stroller, Bl...   \n",
       "118059  HALO SleepSack SwaddleChange Diaper Pad Covers...   \n",
       "\n",
       "                                                   review  rating  \\\n",
       "64509   We purchased this carrier after a recommendati...       5   \n",
       "79239   I bought this right before the KeyFit 30 came ...       5   \n",
       "79338   Some differences with Uppababy Vs. Britax B-Re...       4   \n",
       "73473   I researched carriers for a long time. I am so...       5   \n",
       "67577   When shopping for an exersaucer, I came across...       5   \n",
       "75186   I was very excited when I heard Chicco was fin...       5   \n",
       "34821   Check and recheck the K'Tan for size issues be...       5   \n",
       "66594   I love this stroller SO much! I am not afraid ...       5   \n",
       "131546  AMAZING stroller!  It took me about 2 minutes ...       5   \n",
       "130793  The Thirsties are really an awesome concept th...       5   \n",
       "77498   I am very pleased overall with the Quinny Senz...       4   \n",
       "92971   My local BRU had only 15 strollers to look at ...       5   \n",
       "79335   We only have one baby (6 months old), but boug...       5   \n",
       "79528   A little background on me: I have three kids (...       5   \n",
       "130780  The Thirsties are really an awesome concept th...       5   \n",
       "11352   We were having our \"second\" child, and had NO ...       5   \n",
       "80880   My husband says one should be skeptical of 5 s...       5   \n",
       "100116  If I could give this nursing cover 10 stars I ...       5   \n",
       "63150   i love this stroller. It took 4 months researc...       5   \n",
       "118059  I love having a new baby in the house, and eve...       5   \n",
       "\n",
       "                                             review_clean  sentiment  \n",
       "64509   We purchased this carrier after a recommendati...          1  \n",
       "79239   I bought this right before the KeyFit 30 came ...          1  \n",
       "79338   Some differences with Uppababy Vs Britax BRead...          1  \n",
       "73473   I researched carriers for a long time I am so ...          1  \n",
       "67577   When shopping for an exersaucer I came across ...          1  \n",
       "75186   I was very excited when I heard Chicco was fin...          1  \n",
       "34821   Check and recheck the KTan for size issues bef...          1  \n",
       "66594   I love this stroller SO much I am not afraid t...          1  \n",
       "131546  AMAZING stroller  It took me about 2 minutes t...          1  \n",
       "130793  The Thirsties are really an awesome concept th...          1  \n",
       "77498   I am very pleased overall with the Quinny Senz...          1  \n",
       "92971   My local BRU had only 15 strollers to look at ...          1  \n",
       "79335   We only have one baby 6 months old but bought ...          1  \n",
       "79528   A little background on me I have three kids 5 ...          1  \n",
       "130780  The Thirsties are really an awesome concept th...          1  \n",
       "11352   We were having our second child and had NO CLU...          1  \n",
       "80880   My husband says one should be skeptical of 5 s...          1  \n",
       "100116  If I could give this nursing cover 10 stars I ...          1  \n",
       "63150   i love this stroller It took 4 months research...          1  \n",
       "118059  I love having a new baby in the house and even...          1  "
      ]
     },
     "execution_count": 100,
     "metadata": {},
     "output_type": "execute_result"
    }
   ],
   "source": [
    "train_data.iloc[top_idx[-20:], :]"
   ]
  },
  {
   "cell_type": "code",
   "execution_count": 99,
   "metadata": {
    "collapsed": false
   },
   "outputs": [
    {
     "data": {
      "text/html": [
       "<div>\n",
       "<table border=\"1\" class=\"dataframe\">\n",
       "  <thead>\n",
       "    <tr style=\"text-align: right;\">\n",
       "      <th></th>\n",
       "      <th>name</th>\n",
       "      <th>review</th>\n",
       "      <th>rating</th>\n",
       "      <th>review_clean</th>\n",
       "      <th>sentiment</th>\n",
       "    </tr>\n",
       "  </thead>\n",
       "  <tbody>\n",
       "    <tr>\n",
       "      <th>63316</th>\n",
       "      <td>Baby Einstein Around The World Discovery Center</td>\n",
       "      <td>First off, I did manage to find this product f...</td>\n",
       "      <td>1</td>\n",
       "      <td>First off I did manage to find this product fo...</td>\n",
       "      <td>-1</td>\n",
       "    </tr>\n",
       "    <tr>\n",
       "      <th>127391</th>\n",
       "      <td>Zooper Twist Escape Stroller, Summer Day</td>\n",
       "      <td>I had to return this stroller for three reason...</td>\n",
       "      <td>1</td>\n",
       "      <td>I had to return this stroller for three reason...</td>\n",
       "      <td>-1</td>\n",
       "    </tr>\n",
       "    <tr>\n",
       "      <th>7460</th>\n",
       "      <td>Arms Reach Co-Sleeper brand Mini Co-Sleeper Ba...</td>\n",
       "      <td>Please see my email to the company:Hello,I am ...</td>\n",
       "      <td>1</td>\n",
       "      <td>Please see my email to the companyHelloI am wr...</td>\n",
       "      <td>-1</td>\n",
       "    </tr>\n",
       "    <tr>\n",
       "      <th>107604</th>\n",
       "      <td>Graco Pack 'n Play Playard - Dempsey</td>\n",
       "      <td>My disappointment with this product prompted m...</td>\n",
       "      <td>1</td>\n",
       "      <td>My disappointment with this product prompted m...</td>\n",
       "      <td>-1</td>\n",
       "    </tr>\n",
       "    <tr>\n",
       "      <th>65419</th>\n",
       "      <td>Peg-Perego Aria Twin Stroller, Java</td>\n",
       "      <td>I am so incredibly disappointed with the strol...</td>\n",
       "      <td>1</td>\n",
       "      <td>I am so incredibly disappointed with the strol...</td>\n",
       "      <td>-1</td>\n",
       "    </tr>\n",
       "    <tr>\n",
       "      <th>96951</th>\n",
       "      <td>Summer Infant Sleek and Secure Hand Held Video...</td>\n",
       "      <td>The first monitor broke within 1 month of use-...</td>\n",
       "      <td>1</td>\n",
       "      <td>The first monitor broke within 1 month of use ...</td>\n",
       "      <td>-1</td>\n",
       "    </tr>\n",
       "    <tr>\n",
       "      <th>1597</th>\n",
       "      <td>Philips Avent 3 Pack 9oz Bottles</td>\n",
       "      <td>(This is a long review, but if you read the wh...</td>\n",
       "      <td>1</td>\n",
       "      <td>This is a long review but if you read the whol...</td>\n",
       "      <td>-1</td>\n",
       "    </tr>\n",
       "    <tr>\n",
       "      <th>87861</th>\n",
       "      <td>The European NANNY Baby Movement Monitor - EU ...</td>\n",
       "      <td>The previous reviewers laud the \"piece of mind...</td>\n",
       "      <td>1</td>\n",
       "      <td>The previous reviewers laud the piece of mind ...</td>\n",
       "      <td>-1</td>\n",
       "    </tr>\n",
       "    <tr>\n",
       "      <th>41642</th>\n",
       "      <td>Dream On Me Bassinet, Blue</td>\n",
       "      <td>My husband and I are VERY disappointed and sho...</td>\n",
       "      <td>1</td>\n",
       "      <td>My husband and I are VERY disappointed and sho...</td>\n",
       "      <td>-1</td>\n",
       "    </tr>\n",
       "    <tr>\n",
       "      <th>87522</th>\n",
       "      <td>Levana Safe N'See Digital Video Baby Monitor w...</td>\n",
       "      <td>I have NEVER written a review before for anyth...</td>\n",
       "      <td>1</td>\n",
       "      <td>I have NEVER written a review before for anyth...</td>\n",
       "      <td>-1</td>\n",
       "    </tr>\n",
       "    <tr>\n",
       "      <th>29287</th>\n",
       "      <td>Ameda Purely Yours Breast Pump - Carry All</td>\n",
       "      <td>I received this pump through insurance, and I ...</td>\n",
       "      <td>1</td>\n",
       "      <td>I received this pump through insurance and I f...</td>\n",
       "      <td>-1</td>\n",
       "    </tr>\n",
       "    <tr>\n",
       "      <th>129666</th>\n",
       "      <td>iPad Travel Case</td>\n",
       "      <td>I have rated and left reviews for many items o...</td>\n",
       "      <td>1</td>\n",
       "      <td>I have rated and left reviews for many items o...</td>\n",
       "      <td>-1</td>\n",
       "    </tr>\n",
       "    <tr>\n",
       "      <th>7608</th>\n",
       "      <td>Wimmer-Ferguson Infant Stim-Mobile</td>\n",
       "      <td>This product should be in the hall of fame sol...</td>\n",
       "      <td>1</td>\n",
       "      <td>This product should be in the hall of fame sol...</td>\n",
       "      <td>-1</td>\n",
       "    </tr>\n",
       "    <tr>\n",
       "      <th>67396</th>\n",
       "      <td>Munchkin Arm and Hammer Diaper Pail, White</td>\n",
       "      <td>I would recommend in the strongest possible wa...</td>\n",
       "      <td>1</td>\n",
       "      <td>I would recommend in the strongest possible wa...</td>\n",
       "      <td>-1</td>\n",
       "    </tr>\n",
       "    <tr>\n",
       "      <th>124108</th>\n",
       "      <td>Kinderwagon BLACK Hop Double Child Stroller w/...</td>\n",
       "      <td>This is the worst stroller you can get and it'...</td>\n",
       "      <td>1</td>\n",
       "      <td>This is the worst stroller you can get and its...</td>\n",
       "      <td>-1</td>\n",
       "    </tr>\n",
       "    <tr>\n",
       "      <th>49624</th>\n",
       "      <td>Evenflo Crosstown Soft Portable Travel Gate</td>\n",
       "      <td>I'm sure that this product passed all the form...</td>\n",
       "      <td>1</td>\n",
       "      <td>Im sure that this product passed all the forma...</td>\n",
       "      <td>-1</td>\n",
       "    </tr>\n",
       "    <tr>\n",
       "      <th>95794</th>\n",
       "      <td>Kids Line Cascade Bow Diaper Bag, Black</td>\n",
       "      <td>I purchased this in the black color.  For some...</td>\n",
       "      <td>2</td>\n",
       "      <td>I purchased this in the black color  For some ...</td>\n",
       "      <td>-1</td>\n",
       "    </tr>\n",
       "    <tr>\n",
       "      <th>65420</th>\n",
       "      <td>Peg-Perego Aria Twin Stroller, Java</td>\n",
       "      <td>ahhhh where do I begin.  I had such high hopes...</td>\n",
       "      <td>1</td>\n",
       "      <td>ahhhh where do I begin  I had such high hopes ...</td>\n",
       "      <td>-1</td>\n",
       "    </tr>\n",
       "    <tr>\n",
       "      <th>48313</th>\n",
       "      <td>Levana BABYVIEW20 Interference Free Digital Wi...</td>\n",
       "      <td>where do i even begin? this baby monitor is no...</td>\n",
       "      <td>1</td>\n",
       "      <td>where do i even begin this baby monitor is not...</td>\n",
       "      <td>-1</td>\n",
       "    </tr>\n",
       "    <tr>\n",
       "      <th>88643</th>\n",
       "      <td>The First Years Home and Away Portable Video M...</td>\n",
       "      <td>With modern technology, I really can't believe...</td>\n",
       "      <td>1</td>\n",
       "      <td>With modern technology I really cant believe w...</td>\n",
       "      <td>-1</td>\n",
       "    </tr>\n",
       "  </tbody>\n",
       "</table>\n",
       "</div>"
      ],
      "text/plain": [
       "                                                     name  \\\n",
       "63316     Baby Einstein Around The World Discovery Center   \n",
       "127391           Zooper Twist Escape Stroller, Summer Day   \n",
       "7460    Arms Reach Co-Sleeper brand Mini Co-Sleeper Ba...   \n",
       "107604               Graco Pack 'n Play Playard - Dempsey   \n",
       "65419                 Peg-Perego Aria Twin Stroller, Java   \n",
       "96951   Summer Infant Sleek and Secure Hand Held Video...   \n",
       "1597                     Philips Avent 3 Pack 9oz Bottles   \n",
       "87861   The European NANNY Baby Movement Monitor - EU ...   \n",
       "41642                          Dream On Me Bassinet, Blue   \n",
       "87522   Levana Safe N'See Digital Video Baby Monitor w...   \n",
       "29287          Ameda Purely Yours Breast Pump - Carry All   \n",
       "129666                                   iPad Travel Case   \n",
       "7608                   Wimmer-Ferguson Infant Stim-Mobile   \n",
       "67396          Munchkin Arm and Hammer Diaper Pail, White   \n",
       "124108  Kinderwagon BLACK Hop Double Child Stroller w/...   \n",
       "49624         Evenflo Crosstown Soft Portable Travel Gate   \n",
       "95794             Kids Line Cascade Bow Diaper Bag, Black   \n",
       "65420                 Peg-Perego Aria Twin Stroller, Java   \n",
       "48313   Levana BABYVIEW20 Interference Free Digital Wi...   \n",
       "88643   The First Years Home and Away Portable Video M...   \n",
       "\n",
       "                                                   review  rating  \\\n",
       "63316   First off, I did manage to find this product f...       1   \n",
       "127391  I had to return this stroller for three reason...       1   \n",
       "7460    Please see my email to the company:Hello,I am ...       1   \n",
       "107604  My disappointment with this product prompted m...       1   \n",
       "65419   I am so incredibly disappointed with the strol...       1   \n",
       "96951   The first monitor broke within 1 month of use-...       1   \n",
       "1597    (This is a long review, but if you read the wh...       1   \n",
       "87861   The previous reviewers laud the \"piece of mind...       1   \n",
       "41642   My husband and I are VERY disappointed and sho...       1   \n",
       "87522   I have NEVER written a review before for anyth...       1   \n",
       "29287   I received this pump through insurance, and I ...       1   \n",
       "129666  I have rated and left reviews for many items o...       1   \n",
       "7608    This product should be in the hall of fame sol...       1   \n",
       "67396   I would recommend in the strongest possible wa...       1   \n",
       "124108  This is the worst stroller you can get and it'...       1   \n",
       "49624   I'm sure that this product passed all the form...       1   \n",
       "95794   I purchased this in the black color.  For some...       2   \n",
       "65420   ahhhh where do I begin.  I had such high hopes...       1   \n",
       "48313   where do i even begin? this baby monitor is no...       1   \n",
       "88643   With modern technology, I really can't believe...       1   \n",
       "\n",
       "                                             review_clean  sentiment  \n",
       "63316   First off I did manage to find this product fo...         -1  \n",
       "127391  I had to return this stroller for three reason...         -1  \n",
       "7460    Please see my email to the companyHelloI am wr...         -1  \n",
       "107604  My disappointment with this product prompted m...         -1  \n",
       "65419   I am so incredibly disappointed with the strol...         -1  \n",
       "96951   The first monitor broke within 1 month of use ...         -1  \n",
       "1597    This is a long review but if you read the whol...         -1  \n",
       "87861   The previous reviewers laud the piece of mind ...         -1  \n",
       "41642   My husband and I are VERY disappointed and sho...         -1  \n",
       "87522   I have NEVER written a review before for anyth...         -1  \n",
       "29287   I received this pump through insurance and I f...         -1  \n",
       "129666  I have rated and left reviews for many items o...         -1  \n",
       "7608    This product should be in the hall of fame sol...         -1  \n",
       "67396   I would recommend in the strongest possible wa...         -1  \n",
       "124108  This is the worst stroller you can get and its...         -1  \n",
       "49624   Im sure that this product passed all the forma...         -1  \n",
       "95794   I purchased this in the black color  For some ...         -1  \n",
       "65420   ahhhh where do I begin  I had such high hopes ...         -1  \n",
       "48313   where do i even begin this baby monitor is not...         -1  \n",
       "88643   With modern technology I really cant believe w...         -1  "
      ]
     },
     "execution_count": 99,
     "metadata": {},
     "output_type": "execute_result"
    }
   ],
   "source": [
    "train_data.iloc[top_idx[:20], :]"
   ]
  },
  {
   "cell_type": "code",
   "execution_count": 106,
   "metadata": {
    "collapsed": false
   },
   "outputs": [
    {
     "data": {
      "text/plain": [
       "0.96850452719314029"
      ]
     },
     "execution_count": 106,
     "metadata": {},
     "output_type": "execute_result"
    }
   ],
   "source": [
    "sentiment_model.score(train_matrix, train_data['sentiment'])"
   ]
  },
  {
   "cell_type": "code",
   "execution_count": 107,
   "metadata": {
    "collapsed": false
   },
   "outputs": [
    {
     "data": {
      "text/plain": [
       "0.93229541636669067"
      ]
     },
     "execution_count": 107,
     "metadata": {},
     "output_type": "execute_result"
    }
   ],
   "source": [
    "sentiment_model.score(test_matrix, test_data['sentiment'])"
   ]
  },
  {
   "cell_type": "code",
   "execution_count": 108,
   "metadata": {
    "collapsed": true
   },
   "outputs": [],
   "source": [
    "significant_words = ['love', 'great', 'easy', 'old', 'little', 'perfect', 'loves', \n",
    "      'well', 'able', 'car', 'broke', 'less', 'even', 'waste', 'disappointed', \n",
    "      'work', 'product', 'money', 'would', 'return']"
   ]
  },
  {
   "cell_type": "code",
   "execution_count": 109,
   "metadata": {
    "collapsed": true
   },
   "outputs": [],
   "source": [
    "vectorizer_word_subset = CountVectorizer(vocabulary=significant_words) # limit to 20 words\n",
    "train_matrix_word_subset = vectorizer_word_subset.fit_transform(train_data['review_clean'])\n",
    "test_matrix_word_subset = vectorizer_word_subset.transform(test_data['review_clean'])"
   ]
  },
  {
   "cell_type": "code",
   "execution_count": 110,
   "metadata": {
    "collapsed": false
   },
   "outputs": [
    {
     "data": {
      "text/plain": [
       "<133416x20 sparse matrix of type '<class 'numpy.int64'>'\n",
       "\twith 292197 stored elements in Compressed Sparse Row format>"
      ]
     },
     "execution_count": 110,
     "metadata": {},
     "output_type": "execute_result"
    }
   ],
   "source": [
    "train_matrix_word_subset"
   ]
  },
  {
   "cell_type": "code",
   "execution_count": 111,
   "metadata": {
    "collapsed": false
   },
   "outputs": [
    {
     "data": {
      "text/plain": [
       "LogisticRegression(C=1.0, class_weight=None, dual=False, fit_intercept=True,\n",
       "          intercept_scaling=1, max_iter=100, multi_class='ovr', n_jobs=1,\n",
       "          penalty='l2', random_state=None, solver='liblinear', tol=0.0001,\n",
       "          verbose=0, warm_start=False)"
      ]
     },
     "execution_count": 111,
     "metadata": {},
     "output_type": "execute_result"
    }
   ],
   "source": [
    "simple_model = LogisticRegression()\n",
    "simple_model.fit(train_matrix_word_subset, train_data['sentiment'])"
   ]
  },
  {
   "cell_type": "code",
   "execution_count": 112,
   "metadata": {
    "collapsed": true
   },
   "outputs": [],
   "source": [
    "simple_model_coef_table = pd.DataFrame(data={'word':significant_words,\n",
    "                                         'coefficient':simple_model.coef_.flatten()})"
   ]
  },
  {
   "cell_type": "code",
   "execution_count": 125,
   "metadata": {
    "collapsed": false
   },
   "outputs": [],
   "source": [
    "simple_model_coef_table = \\\n",
    "simple_model_coef_table.sort_values('coefficient', ascending=False).reset_index(drop=True)"
   ]
  },
  {
   "cell_type": "code",
   "execution_count": 126,
   "metadata": {
    "collapsed": false
   },
   "outputs": [
    {
     "data": {
      "text/html": [
       "<div>\n",
       "<table border=\"1\" class=\"dataframe\">\n",
       "  <thead>\n",
       "    <tr style=\"text-align: right;\">\n",
       "      <th></th>\n",
       "      <th>coefficient</th>\n",
       "      <th>word</th>\n",
       "    </tr>\n",
       "  </thead>\n",
       "  <tbody>\n",
       "    <tr>\n",
       "      <th>0</th>\n",
       "      <td>1.673074</td>\n",
       "      <td>loves</td>\n",
       "    </tr>\n",
       "    <tr>\n",
       "      <th>1</th>\n",
       "      <td>1.509812</td>\n",
       "      <td>perfect</td>\n",
       "    </tr>\n",
       "    <tr>\n",
       "      <th>2</th>\n",
       "      <td>1.363690</td>\n",
       "      <td>love</td>\n",
       "    </tr>\n",
       "    <tr>\n",
       "      <th>3</th>\n",
       "      <td>1.192538</td>\n",
       "      <td>easy</td>\n",
       "    </tr>\n",
       "    <tr>\n",
       "      <th>4</th>\n",
       "      <td>0.944000</td>\n",
       "      <td>great</td>\n",
       "    </tr>\n",
       "    <tr>\n",
       "      <th>5</th>\n",
       "      <td>0.520186</td>\n",
       "      <td>little</td>\n",
       "    </tr>\n",
       "    <tr>\n",
       "      <th>6</th>\n",
       "      <td>0.503760</td>\n",
       "      <td>well</td>\n",
       "    </tr>\n",
       "    <tr>\n",
       "      <th>7</th>\n",
       "      <td>0.190909</td>\n",
       "      <td>able</td>\n",
       "    </tr>\n",
       "    <tr>\n",
       "      <th>8</th>\n",
       "      <td>0.085513</td>\n",
       "      <td>old</td>\n",
       "    </tr>\n",
       "    <tr>\n",
       "      <th>9</th>\n",
       "      <td>0.058855</td>\n",
       "      <td>car</td>\n",
       "    </tr>\n",
       "    <tr>\n",
       "      <th>10</th>\n",
       "      <td>-0.209563</td>\n",
       "      <td>less</td>\n",
       "    </tr>\n",
       "    <tr>\n",
       "      <th>11</th>\n",
       "      <td>-0.320556</td>\n",
       "      <td>product</td>\n",
       "    </tr>\n",
       "    <tr>\n",
       "      <th>12</th>\n",
       "      <td>-0.362167</td>\n",
       "      <td>would</td>\n",
       "    </tr>\n",
       "    <tr>\n",
       "      <th>13</th>\n",
       "      <td>-0.511380</td>\n",
       "      <td>even</td>\n",
       "    </tr>\n",
       "    <tr>\n",
       "      <th>14</th>\n",
       "      <td>-0.621169</td>\n",
       "      <td>work</td>\n",
       "    </tr>\n",
       "    <tr>\n",
       "      <th>15</th>\n",
       "      <td>-0.898031</td>\n",
       "      <td>money</td>\n",
       "    </tr>\n",
       "    <tr>\n",
       "      <th>16</th>\n",
       "      <td>-1.651576</td>\n",
       "      <td>broke</td>\n",
       "    </tr>\n",
       "    <tr>\n",
       "      <th>17</th>\n",
       "      <td>-2.033699</td>\n",
       "      <td>waste</td>\n",
       "    </tr>\n",
       "    <tr>\n",
       "      <th>18</th>\n",
       "      <td>-2.109331</td>\n",
       "      <td>return</td>\n",
       "    </tr>\n",
       "    <tr>\n",
       "      <th>19</th>\n",
       "      <td>-2.348298</td>\n",
       "      <td>disappointed</td>\n",
       "    </tr>\n",
       "  </tbody>\n",
       "</table>\n",
       "</div>"
      ],
      "text/plain": [
       "    coefficient          word\n",
       "0      1.673074         loves\n",
       "1      1.509812       perfect\n",
       "2      1.363690          love\n",
       "3      1.192538          easy\n",
       "4      0.944000         great\n",
       "5      0.520186        little\n",
       "6      0.503760          well\n",
       "7      0.190909          able\n",
       "8      0.085513           old\n",
       "9      0.058855           car\n",
       "10    -0.209563          less\n",
       "11    -0.320556       product\n",
       "12    -0.362167         would\n",
       "13    -0.511380          even\n",
       "14    -0.621169          work\n",
       "15    -0.898031         money\n",
       "16    -1.651576         broke\n",
       "17    -2.033699         waste\n",
       "18    -2.109331        return\n",
       "19    -2.348298  disappointed"
      ]
     },
     "execution_count": 126,
     "metadata": {},
     "output_type": "execute_result"
    }
   ],
   "source": [
    "simple_model_coef_table"
   ]
  },
  {
   "cell_type": "markdown",
   "metadata": {},
   "source": [
    "### Quiz"
   ]
  },
  {
   "cell_type": "code",
   "execution_count": 150,
   "metadata": {
    "collapsed": false
   },
   "outputs": [
    {
     "name": "stdout",
     "output_type": "stream",
     "text": [
      "     loves  1.67  1.52\n",
      "   perfect  1.51  1.87\n",
      "      love  1.36  1.58\n",
      "      easy  1.19  1.36\n",
      "     great  0.94  1.23\n",
      "    little  0.52  0.64\n",
      "      well  0.50  0.54\n",
      "      able  0.19  0.39\n",
      "       old  0.09  0.05\n",
      "       car  0.06  0.12\n"
     ]
    }
   ],
   "source": [
    "for i, w in enumerate(simple_model_coef_table['word']):\n",
    "    coef = simple_model_coef_table.ix[i, 'coefficient']\n",
    "    if coef > 0:\n",
    "        coef_full = sentiment_model.coef_.flatten()[vectorizer.vocabulary_[w]]\n",
    "        print('{:>10}{:>6.2f}{:>6.2f}'.format(w, coef, coef_full))"
   ]
  },
  {
   "cell_type": "code",
   "execution_count": 151,
   "metadata": {
    "collapsed": false
   },
   "outputs": [
    {
     "data": {
      "text/plain": [
       "0.8668225700065959"
      ]
     },
     "execution_count": 151,
     "metadata": {},
     "output_type": "execute_result"
    }
   ],
   "source": [
    "simple_model.score(train_matrix_word_subset, train_data['sentiment'])"
   ]
  },
  {
   "cell_type": "code",
   "execution_count": 152,
   "metadata": {
    "collapsed": false
   },
   "outputs": [
    {
     "data": {
      "text/plain": [
       "0.86936045116390692"
      ]
     },
     "execution_count": 152,
     "metadata": {},
     "output_type": "execute_result"
    }
   ],
   "source": [
    "simple_model.score(test_matrix_word_subset, test_data['sentiment'])"
   ]
  },
  {
   "cell_type": "code",
   "execution_count": 155,
   "metadata": {
    "collapsed": false
   },
   "outputs": [
    {
     "data": {
      "text/plain": [
       "0.84278257739380846"
      ]
     },
     "execution_count": 155,
     "metadata": {},
     "output_type": "execute_result"
    }
   ],
   "source": [
    "(test_data['sentiment'] > 0).sum() / test_data.shape[0]"
   ]
  },
  {
   "cell_type": "code",
   "execution_count": null,
   "metadata": {
    "collapsed": true
   },
   "outputs": [],
   "source": []
  }
 ],
 "metadata": {
  "anaconda-cloud": {},
  "kernelspec": {
   "display_name": "Python [default]",
   "language": "python",
   "name": "python3"
  },
  "language_info": {
   "codemirror_mode": {
    "name": "ipython",
    "version": 3
   },
   "file_extension": ".py",
   "mimetype": "text/x-python",
   "name": "python",
   "nbconvert_exporter": "python",
   "pygments_lexer": "ipython3",
   "version": "3.5.2"
  }
 },
 "nbformat": 4,
 "nbformat_minor": 1
}
