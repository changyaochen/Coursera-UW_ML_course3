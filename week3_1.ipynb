{
 "cells": [
  {
   "cell_type": "code",
   "execution_count": 83,
   "metadata": {
    "collapsed": false
   },
   "outputs": [],
   "source": [
    "import pandas as pd\n",
    "import numpy as np\n",
    "import json, graphviz\n",
    "from sklearn.tree import DecisionTreeClassifier, export_graphviz"
   ]
  },
  {
   "cell_type": "code",
   "execution_count": 16,
   "metadata": {
    "collapsed": false
   },
   "outputs": [],
   "source": [
    "loans = pd.read_csv('lending-club-data.csv', low_memory=False)\n",
    "\n",
    "loans['bad_loans'].value_counts()\n",
    "loans['safe_loans'] = loans['bad_loans'].apply(lambda x: 1-x)\n",
    "del loans['bad_loans']\n",
    "\n",
    "# loan['safe_loans'].value_counts()\n",
    "\n",
    "features = ['grade',                     # grade of the loan\n",
    "            'sub_grade',                 # sub-grade of the loan\n",
    "            'short_emp',                 # one year or less of employment\n",
    "            'emp_length_num',            # number of years of employment\n",
    "            'home_ownership',            # home_ownership status: own, mortgage or rent\n",
    "            'dti',                       # debt to income ratio\n",
    "            'purpose',                   # the purpose of the loan\n",
    "            'term',                      # the term of the loan\n",
    "            'last_delinq_none',          # has borrower had a delinquincy\n",
    "            'last_major_derog_none',     # has borrower had 90 day or worse rating\n",
    "            'revol_util',                # percent of available credit being used\n",
    "            'total_rec_late_fee',        # total late fees received to day\n",
    "           ]\n",
    "\n",
    "target = 'safe_loans'                    # prediction target (y) (+1 means safe, -1 is risky)\n",
    "loans = loans[features + [target]]"
   ]
  },
  {
   "cell_type": "code",
   "execution_count": 51,
   "metadata": {
    "collapsed": false
   },
   "outputs": [],
   "source": [
    "# one hot encode\n",
    "for name, dtype in zip(loans.dtypes.index, loans.dtypes.values):\n",
    "    if dtype == 'object':\n",
    "        onehot = pd.get_dummies(loans[name])\n",
    "        onehot.rename(columns={x:name+'_'+x.strip().replace(' ', '_') for x in onehot.columns}\n",
    "                  , inplace=True)\n",
    "        loans = loans.join(onehot)\n",
    "        del loans[name]"
   ]
  },
  {
   "cell_type": "code",
   "execution_count": 54,
   "metadata": {
    "collapsed": true
   },
   "outputs": [],
   "source": [
    "with open('module-5-assignment-1-train-idx.json', 'r') as f:\n",
    "    train_idx = json.load(f)\n",
    "with open('module-5-assignment-1-validation-idx.json', 'r') as f:\n",
    "    valid_idx = json.load(f)\n",
    "\n",
    "train_data = loans.iloc[train_idx, :].reset_index(drop=True)\n",
    "validation_data = loans.iloc[valid_idx, :].reset_index(drop=True)"
   ]
  },
  {
   "cell_type": "code",
   "execution_count": 71,
   "metadata": {
    "collapsed": false
   },
   "outputs": [
    {
     "data": {
      "text/plain": [
       "DecisionTreeClassifier(class_weight=None, criterion='gini', max_depth=2,\n",
       "            max_features=None, max_leaf_nodes=None,\n",
       "            min_impurity_split=1e-07, min_samples_leaf=1,\n",
       "            min_samples_split=2, min_weight_fraction_leaf=0.0,\n",
       "            presort=False, random_state=None, splitter='best')"
      ]
     },
     "execution_count": 71,
     "metadata": {},
     "output_type": "execute_result"
    }
   ],
   "source": [
    "decision_tree_model = DecisionTreeClassifier(max_depth=6)\n",
    "small_model = DecisionTreeClassifier(max_depth=2)\n",
    "features_one_hot = [x for x in loans if x != target]\n",
    "decision_tree_model.fit(train_data[features_one_hot], train_data[target])\n",
    "small_model.fit(train_data[features_one_hot], train_data[target])"
   ]
  },
  {
   "cell_type": "code",
   "execution_count": 72,
   "metadata": {
    "collapsed": true
   },
   "outputs": [],
   "source": [
    "validation_safe_loans = validation_data[validation_data[target] == 1]\n",
    "validation_risky_loans = validation_data[validation_data[target] == 0]\n",
    "\n",
    "sample_validation_data_risky = validation_risky_loans[0:2]\n",
    "sample_validation_data_safe = validation_safe_loans[0:2]\n",
    "\n",
    "sample_validation_data = sample_validation_data_safe.append(sample_validation_data_risky)"
   ]
  },
  {
   "cell_type": "code",
   "execution_count": 73,
   "metadata": {
    "collapsed": false
   },
   "outputs": [
    {
     "data": {
      "text/plain": [
       "4674     True\n",
       "4675    False\n",
       "0        True\n",
       "1       False\n",
       "Name: safe_loans, dtype: bool"
      ]
     },
     "execution_count": 73,
     "metadata": {},
     "output_type": "execute_result"
    }
   ],
   "source": [
    "decision_tree_model.predict(sample_validation_data[features_one_hot]) == \\\n",
    "sample_validation_data[target]"
   ]
  },
  {
   "cell_type": "code",
   "execution_count": 74,
   "metadata": {
    "collapsed": false
   },
   "outputs": [
    {
     "data": {
      "text/plain": [
       "array([ 0.65843457,  0.46369354,  0.35249042,  0.79210526])"
      ]
     },
     "execution_count": 74,
     "metadata": {},
     "output_type": "execute_result"
    }
   ],
   "source": [
    "decision_tree_model.predict_proba(sample_validation_data[features_one_hot])[:, 1]"
   ]
  },
  {
   "cell_type": "code",
   "execution_count": 75,
   "metadata": {
    "collapsed": false
   },
   "outputs": [
    {
     "data": {
      "text/plain": [
       "4674     True\n",
       "4675    False\n",
       "0        True\n",
       "1       False\n",
       "Name: safe_loans, dtype: bool"
      ]
     },
     "execution_count": 75,
     "metadata": {},
     "output_type": "execute_result"
    }
   ],
   "source": [
    "small_model.predict(sample_validation_data[features_one_hot]) == \\\n",
    "sample_validation_data[target]"
   ]
  },
  {
   "cell_type": "code",
   "execution_count": 76,
   "metadata": {
    "collapsed": false
   },
   "outputs": [
    {
     "data": {
      "text/plain": [
       "array([ 0.58103415,  0.40744661,  0.40744661,  0.76879888])"
      ]
     },
     "execution_count": 76,
     "metadata": {},
     "output_type": "execute_result"
    }
   ],
   "source": [
    "small_model.predict_proba(sample_validation_data[features_one_hot])[:, 1]"
   ]
  },
  {
   "cell_type": "code",
   "execution_count": 85,
   "metadata": {
    "collapsed": false
   },
   "outputs": [
    {
     "data": {
      "image/svg+xml": [
       "<?xml version=\"1.0\" encoding=\"UTF-8\" standalone=\"no\"?>\n",
       "<!DOCTYPE svg PUBLIC \"-//W3C//DTD SVG 1.1//EN\"\n",
       " \"http://www.w3.org/Graphics/SVG/1.1/DTD/svg11.dtd\">\n",
       "<!-- Generated by graphviz version 2.38.0 (20140413.2041)\n",
       " -->\n",
       "<!-- Title: Tree Pages: 1 -->\n",
       "<svg width=\"598pt\" height=\"258pt\"\n",
       " viewBox=\"0.00 0.00 597.54 258.00\" xmlns=\"http://www.w3.org/2000/svg\" xmlns:xlink=\"http://www.w3.org/1999/xlink\">\n",
       "<g id=\"graph0\" class=\"graph\" transform=\"scale(1 1) rotate(0) translate(4 254)\">\n",
       "<title>Tree</title>\n",
       "<polygon fill=\"white\" stroke=\"none\" points=\"-4,4 -4,-254 593.537,-254 593.537,4 -4,4\"/>\n",
       "<!-- 0 -->\n",
       "<g id=\"node1\" class=\"node\"><title>0</title>\n",
       "<polygon fill=\"none\" stroke=\"black\" points=\"381.806,-250 234.731,-250 234.731,-186 381.806,-186 381.806,-250\"/>\n",
       "<text text-anchor=\"middle\" x=\"308.269\" y=\"-234.8\" font-family=\"Times,serif\" font-size=\"14.00\">grade_A &lt;= 0.5</text>\n",
       "<text text-anchor=\"middle\" x=\"308.269\" y=\"-220.8\" font-family=\"Times,serif\" font-size=\"14.00\">gini = 0.5</text>\n",
       "<text text-anchor=\"middle\" x=\"308.269\" y=\"-206.8\" font-family=\"Times,serif\" font-size=\"14.00\">samples = 37224</text>\n",
       "<text text-anchor=\"middle\" x=\"308.269\" y=\"-192.8\" font-family=\"Times,serif\" font-size=\"14.00\">value = [18476, 18748]</text>\n",
       "</g>\n",
       "<!-- 1 -->\n",
       "<g id=\"node2\" class=\"node\"><title>1</title>\n",
       "<polygon fill=\"none\" stroke=\"black\" points=\"289.806,-150 142.731,-150 142.731,-86 289.806,-86 289.806,-150\"/>\n",
       "<text text-anchor=\"middle\" x=\"216.269\" y=\"-134.8\" font-family=\"Times,serif\" font-size=\"14.00\">grade_B &lt;= 0.5</text>\n",
       "<text text-anchor=\"middle\" x=\"216.269\" y=\"-120.8\" font-family=\"Times,serif\" font-size=\"14.00\">gini = 0.4973</text>\n",
       "<text text-anchor=\"middle\" x=\"216.269\" y=\"-106.8\" font-family=\"Times,serif\" font-size=\"14.00\">samples = 32094</text>\n",
       "<text text-anchor=\"middle\" x=\"216.269\" y=\"-92.8\" font-family=\"Times,serif\" font-size=\"14.00\">value = [17218, 14876]</text>\n",
       "</g>\n",
       "<!-- 0&#45;&gt;1 -->\n",
       "<g id=\"edge1\" class=\"edge\"><title>0&#45;&gt;1</title>\n",
       "<path fill=\"none\" stroke=\"black\" d=\"M279.159,-185.992C270.685,-176.966 261.323,-166.993 252.469,-157.562\"/>\n",
       "<polygon fill=\"black\" stroke=\"black\" points=\"254.9,-155.038 245.504,-150.142 249.797,-159.829 254.9,-155.038\"/>\n",
       "<text text-anchor=\"middle\" x=\"244.715\" y=\"-170.93\" font-family=\"Times,serif\" font-size=\"14.00\">True</text>\n",
       "</g>\n",
       "<!-- 4 -->\n",
       "<g id=\"node5\" class=\"node\"><title>4</title>\n",
       "<polygon fill=\"none\" stroke=\"black\" points=\"492.33,-150 308.207,-150 308.207,-86 492.33,-86 492.33,-150\"/>\n",
       "<text text-anchor=\"middle\" x=\"400.269\" y=\"-134.8\" font-family=\"Times,serif\" font-size=\"14.00\">total_rec_late_fee &lt;= 14.8301</text>\n",
       "<text text-anchor=\"middle\" x=\"400.269\" y=\"-120.8\" font-family=\"Times,serif\" font-size=\"14.00\">gini = 0.3702</text>\n",
       "<text text-anchor=\"middle\" x=\"400.269\" y=\"-106.8\" font-family=\"Times,serif\" font-size=\"14.00\">samples = 5130</text>\n",
       "<text text-anchor=\"middle\" x=\"400.269\" y=\"-92.8\" font-family=\"Times,serif\" font-size=\"14.00\">value = [1258, 3872]</text>\n",
       "</g>\n",
       "<!-- 0&#45;&gt;4 -->\n",
       "<g id=\"edge4\" class=\"edge\"><title>0&#45;&gt;4</title>\n",
       "<path fill=\"none\" stroke=\"black\" d=\"M337.378,-185.992C345.852,-176.966 355.214,-166.993 364.068,-157.562\"/>\n",
       "<polygon fill=\"black\" stroke=\"black\" points=\"366.74,-159.829 371.033,-150.142 361.637,-155.038 366.74,-159.829\"/>\n",
       "<text text-anchor=\"middle\" x=\"371.822\" y=\"-170.93\" font-family=\"Times,serif\" font-size=\"14.00\">False</text>\n",
       "</g>\n",
       "<!-- 2 -->\n",
       "<g id=\"node3\" class=\"node\"><title>2</title>\n",
       "<polygon fill=\"none\" stroke=\"black\" points=\"140.306,-50 0.230685,-50 0.230685,-0 140.306,-0 140.306,-50\"/>\n",
       "<text text-anchor=\"middle\" x=\"70.2686\" y=\"-34.8\" font-family=\"Times,serif\" font-size=\"14.00\">gini = 0.4829</text>\n",
       "<text text-anchor=\"middle\" x=\"70.2686\" y=\"-20.8\" font-family=\"Times,serif\" font-size=\"14.00\">samples = 21728</text>\n",
       "<text text-anchor=\"middle\" x=\"70.2686\" y=\"-6.8\" font-family=\"Times,serif\" font-size=\"14.00\">value = [12875, 8853]</text>\n",
       "</g>\n",
       "<!-- 1&#45;&gt;2 -->\n",
       "<g id=\"edge2\" class=\"edge\"><title>1&#45;&gt;2</title>\n",
       "<path fill=\"none\" stroke=\"black\" d=\"M166.432,-85.9375C150.54,-76.0324 133.015,-65.109 117.327,-55.3308\"/>\n",
       "<polygon fill=\"black\" stroke=\"black\" points=\"119.16,-52.3494 108.822,-50.0301 115.457,-58.2899 119.16,-52.3494\"/>\n",
       "</g>\n",
       "<!-- 3 -->\n",
       "<g id=\"node4\" class=\"node\"><title>3</title>\n",
       "<polygon fill=\"none\" stroke=\"black\" points=\"291.806,-50 158.731,-50 158.731,-0 291.806,-0 291.806,-50\"/>\n",
       "<text text-anchor=\"middle\" x=\"225.269\" y=\"-34.8\" font-family=\"Times,serif\" font-size=\"14.00\">gini = 0.4869</text>\n",
       "<text text-anchor=\"middle\" x=\"225.269\" y=\"-20.8\" font-family=\"Times,serif\" font-size=\"14.00\">samples = 10366</text>\n",
       "<text text-anchor=\"middle\" x=\"225.269\" y=\"-6.8\" font-family=\"Times,serif\" font-size=\"14.00\">value = [4343, 6023]</text>\n",
       "</g>\n",
       "<!-- 1&#45;&gt;3 -->\n",
       "<g id=\"edge3\" class=\"edge\"><title>1&#45;&gt;3</title>\n",
       "<path fill=\"none\" stroke=\"black\" d=\"M219.341,-85.9375C220.166,-77.5916 221.063,-68.5226 221.903,-60.025\"/>\n",
       "<polygon fill=\"black\" stroke=\"black\" points=\"225.391,-60.326 222.892,-50.0301 218.425,-59.637 225.391,-60.326\"/>\n",
       "</g>\n",
       "<!-- 5 -->\n",
       "<g id=\"node6\" class=\"node\"><title>5</title>\n",
       "<polygon fill=\"none\" stroke=\"black\" points=\"458.793,-50 325.744,-50 325.744,-0 458.793,-0 458.793,-50\"/>\n",
       "<text text-anchor=\"middle\" x=\"392.269\" y=\"-34.8\" font-family=\"Times,serif\" font-size=\"14.00\">gini = 0.3555</text>\n",
       "<text text-anchor=\"middle\" x=\"392.269\" y=\"-20.8\" font-family=\"Times,serif\" font-size=\"14.00\">samples = 4987</text>\n",
       "<text text-anchor=\"middle\" x=\"392.269\" y=\"-6.8\" font-family=\"Times,serif\" font-size=\"14.00\">value = [1153, 3834]</text>\n",
       "</g>\n",
       "<!-- 4&#45;&gt;5 -->\n",
       "<g id=\"edge5\" class=\"edge\"><title>4&#45;&gt;5</title>\n",
       "<path fill=\"none\" stroke=\"black\" d=\"M397.538,-85.9375C396.804,-77.5916 396.007,-68.5226 395.26,-60.025\"/>\n",
       "<polygon fill=\"black\" stroke=\"black\" points=\"398.743,-59.6851 394.381,-50.0301 391.77,-60.2982 398.743,-59.6851\"/>\n",
       "</g>\n",
       "<!-- 6 -->\n",
       "<g id=\"node7\" class=\"node\"><title>6</title>\n",
       "<polygon fill=\"none\" stroke=\"black\" points=\"589.307,-50 477.23,-50 477.23,-0 589.307,-0 589.307,-50\"/>\n",
       "<text text-anchor=\"middle\" x=\"533.269\" y=\"-34.8\" font-family=\"Times,serif\" font-size=\"14.00\">gini = 0.3902</text>\n",
       "<text text-anchor=\"middle\" x=\"533.269\" y=\"-20.8\" font-family=\"Times,serif\" font-size=\"14.00\">samples = 143</text>\n",
       "<text text-anchor=\"middle\" x=\"533.269\" y=\"-6.8\" font-family=\"Times,serif\" font-size=\"14.00\">value = [105, 38]</text>\n",
       "</g>\n",
       "<!-- 4&#45;&gt;6 -->\n",
       "<g id=\"edge6\" class=\"edge\"><title>4&#45;&gt;6</title>\n",
       "<path fill=\"none\" stroke=\"black\" d=\"M445.668,-85.9375C459.876,-76.2158 475.518,-65.5132 489.605,-55.8752\"/>\n",
       "<polygon fill=\"black\" stroke=\"black\" points=\"491.871,-58.5655 498.148,-50.0301 487.918,-52.7884 491.871,-58.5655\"/>\n",
       "</g>\n",
       "</g>\n",
       "</svg>\n"
      ],
      "text/plain": [
       "<graphviz.files.Source at 0x1119cd9e8>"
      ]
     },
     "execution_count": 85,
     "metadata": {},
     "output_type": "execute_result"
    }
   ],
   "source": [
    "export_graphviz(small_model, out_file='tree.dot', feature_names=features_one_hot)\n",
    "with open(\"tree.dot\") as f:\n",
    "    dot_graph = f.read()\n",
    "graphviz.Source(dot_graph)"
   ]
  },
  {
   "cell_type": "code",
   "execution_count": 87,
   "metadata": {
    "collapsed": false
   },
   "outputs": [
    {
     "data": {
      "text/plain": [
       "short_emp                      0.00\n",
       "emp_length_num                10.00\n",
       "dti                           16.85\n",
       "last_delinq_none               1.00\n",
       "last_major_derog_none          1.00\n",
       "revol_util                    96.40\n",
       "total_rec_late_fee             0.00\n",
       "safe_loans                     1.00\n",
       "grade_A                        0.00\n",
       "grade_B                        0.00\n",
       "grade_C                        0.00\n",
       "grade_D                        1.00\n",
       "grade_E                        0.00\n",
       "grade_F                        0.00\n",
       "grade_G                        0.00\n",
       "sub_grade_A1                   0.00\n",
       "sub_grade_A2                   0.00\n",
       "sub_grade_A3                   0.00\n",
       "sub_grade_A4                   0.00\n",
       "sub_grade_A5                   0.00\n",
       "sub_grade_B1                   0.00\n",
       "sub_grade_B2                   0.00\n",
       "sub_grade_B3                   0.00\n",
       "sub_grade_B4                   0.00\n",
       "sub_grade_B5                   0.00\n",
       "sub_grade_C1                   0.00\n",
       "sub_grade_C2                   0.00\n",
       "sub_grade_C3                   0.00\n",
       "sub_grade_C4                   0.00\n",
       "sub_grade_C5                   0.00\n",
       "                              ...  \n",
       "sub_grade_E4                   0.00\n",
       "sub_grade_E5                   0.00\n",
       "sub_grade_F1                   0.00\n",
       "sub_grade_F2                   0.00\n",
       "sub_grade_F3                   0.00\n",
       "sub_grade_F4                   0.00\n",
       "sub_grade_F5                   0.00\n",
       "sub_grade_G1                   0.00\n",
       "sub_grade_G2                   0.00\n",
       "sub_grade_G3                   0.00\n",
       "sub_grade_G4                   0.00\n",
       "sub_grade_G5                   0.00\n",
       "home_ownership_MORTGAGE        0.00\n",
       "home_ownership_OTHER           0.00\n",
       "home_ownership_OWN             0.00\n",
       "home_ownership_RENT            1.00\n",
       "purpose_car                    0.00\n",
       "purpose_credit_card            0.00\n",
       "purpose_debt_consolidation     1.00\n",
       "purpose_home_improvement       0.00\n",
       "purpose_house                  0.00\n",
       "purpose_major_purchase         0.00\n",
       "purpose_medical                0.00\n",
       "purpose_moving                 0.00\n",
       "purpose_other                  0.00\n",
       "purpose_small_business         0.00\n",
       "purpose_vacation               0.00\n",
       "purpose_wedding                0.00\n",
       "term_36_months                 1.00\n",
       "term_60_months                 0.00\n",
       "Name: 4675, dtype: float64"
      ]
     },
     "execution_count": 87,
     "metadata": {},
     "output_type": "execute_result"
    }
   ],
   "source": [
    "sample_validation_data.iloc[1, :]"
   ]
  },
  {
   "cell_type": "code",
   "execution_count": 90,
   "metadata": {
    "collapsed": false
   },
   "outputs": [
    {
     "data": {
      "text/plain": [
       "0.64052761659144641"
      ]
     },
     "execution_count": 90,
     "metadata": {},
     "output_type": "execute_result"
    }
   ],
   "source": [
    "decision_tree_model.score(train_data[features_one_hot], train_data[target])"
   ]
  },
  {
   "cell_type": "code",
   "execution_count": 91,
   "metadata": {
    "collapsed": false
   },
   "outputs": [
    {
     "data": {
      "text/plain": [
       "0.61350204169353106"
      ]
     },
     "execution_count": 91,
     "metadata": {},
     "output_type": "execute_result"
    }
   ],
   "source": [
    "small_model.score(train_data[features_one_hot], train_data[target])"
   ]
  },
  {
   "cell_type": "code",
   "execution_count": 92,
   "metadata": {
    "collapsed": false
   },
   "outputs": [
    {
     "data": {
      "text/plain": [
       "0.63614821197759586"
      ]
     },
     "execution_count": 92,
     "metadata": {},
     "output_type": "execute_result"
    }
   ],
   "source": [
    "decision_tree_model.score(validation_data[features_one_hot], validation_data[target])"
   ]
  },
  {
   "cell_type": "code",
   "execution_count": 93,
   "metadata": {
    "collapsed": false
   },
   "outputs": [
    {
     "data": {
      "text/plain": [
       "0.61934510986643687"
      ]
     },
     "execution_count": 93,
     "metadata": {},
     "output_type": "execute_result"
    }
   ],
   "source": [
    "small_model.score(validation_data[features_one_hot], validation_data[target])"
   ]
  },
  {
   "cell_type": "code",
   "execution_count": 94,
   "metadata": {
    "collapsed": false
   },
   "outputs": [
    {
     "data": {
      "text/plain": [
       "0.66379217709004945"
      ]
     },
     "execution_count": 94,
     "metadata": {},
     "output_type": "execute_result"
    }
   ],
   "source": [
    "big_model = DecisionTreeClassifier(max_depth=10)\n",
    "big_model.fit(train_data[features_one_hot], train_data[target])\n",
    "big_model.score(train_data[features_one_hot], train_data[target])"
   ]
  },
  {
   "cell_type": "code",
   "execution_count": 95,
   "metadata": {
    "collapsed": false
   },
   "outputs": [
    {
     "data": {
      "text/plain": [
       "0.62656182679879358"
      ]
     },
     "execution_count": 95,
     "metadata": {},
     "output_type": "execute_result"
    }
   ],
   "source": [
    "big_model.score(validation_data[features_one_hot], validation_data[target])"
   ]
  },
  {
   "cell_type": "code",
   "execution_count": 96,
   "metadata": {
    "collapsed": false
   },
   "outputs": [
    {
     "data": {
      "text/plain": [
       "array([[3013, 1661],\n",
       "       [1717, 2893]])"
      ]
     },
     "execution_count": 96,
     "metadata": {},
     "output_type": "execute_result"
    }
   ],
   "source": [
    "from sklearn.metrics import confusion_matrix\n",
    "confusion_matrix(validation_data[target], decision_tree_model.predict(validation_data[features_one_hot]))"
   ]
  },
  {
   "cell_type": "code",
   "execution_count": 98,
   "metadata": {
    "collapsed": false
   },
   "outputs": [
    {
     "name": "stdout",
     "output_type": "stream",
     "text": [
      "50390000\n"
     ]
    }
   ],
   "source": [
    "FP = 1661\n",
    "FN = 1717\n",
    "cost = 10000*FN + 20000*FP\n",
    "print(cost)"
   ]
  },
  {
   "cell_type": "code",
   "execution_count": null,
   "metadata": {
    "collapsed": true
   },
   "outputs": [],
   "source": []
  }
 ],
 "metadata": {
  "anaconda-cloud": {},
  "kernelspec": {
   "display_name": "Python [default]",
   "language": "python",
   "name": "python3"
  },
  "language_info": {
   "codemirror_mode": {
    "name": "ipython",
    "version": 3
   },
   "file_extension": ".py",
   "mimetype": "text/x-python",
   "name": "python",
   "nbconvert_exporter": "python",
   "pygments_lexer": "ipython3",
   "version": "3.5.2"
  }
 },
 "nbformat": 4,
 "nbformat_minor": 1
}
